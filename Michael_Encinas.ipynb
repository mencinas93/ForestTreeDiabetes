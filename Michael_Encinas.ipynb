{
 "cells": [
  {
   "cell_type": "markdown",
   "id": "e4afc3f9-1c6b-4f86-a4e1-2054e4b42c80",
   "metadata": {},
   "source": [
    "Context\n",
    "This dataset is originally from the National Institute of Diabetes and\n",
    "Digestive and Kidney Diseases. The objective is to predict based on\n",
    "diagnostic measurements whether a patient has diabetes.\n",
    "Content\n",
    "Several constraints were placed on the selection of these instances from a\n",
    "larger database. In particular, all patients here are females at least 21 years\n",
    "old of Pima Indian heritage.\n",
    "• Pregnancies: Number of times pregnant\n",
    "• Glucose: Plasma glucose concentration 2 hours in an oral glucose\n",
    "tolerance test\n",
    "• BloodPressure: Diastolic blood pressure (mm Hg)\n",
    "• SkinThickness: Triceps skin fold thickness (mm)\n",
    "• Insulin: 2-Hour serum insulin (mu U/ml)\n",
    "• BMI: Body mass index (weight in kg/(height in m)^2)\n",
    "• DiabetesPedigreeFunction: Diabetes pedigree function\n",
    "• Age: Age (years)\n",
    "• Outcome: Class variable (0 or 1)"
   ]
  },
  {
   "cell_type": "markdown",
   "id": "55975363-d517-4b24-9db7-fd1bb4467826",
   "metadata": {},
   "source": [
    "1. Prepare the provided Diabetes dataset, implement ONE of the classification techniques and evaluate the performance using the proper metrics for the binary classification of the variable “Outcome”"
   ]
  },
  {
   "cell_type": "code",
   "execution_count": 94,
   "id": "66fa1b1f-76fe-4064-88b1-5bddf92eddbc",
   "metadata": {
    "tags": []
   },
   "outputs": [
    {
     "name": "stdout",
     "output_type": "stream",
     "text": [
      "\n",
      "The downloaded binary packages are in\n",
      "\t/var/folders/rd/jfxc79756t9g0g5f4ytyb6l40000gn/T//Rtmpq88GOO/downloaded_packages\n"
     ]
    }
   ],
   "source": [
    "install.packages(\"randomForest\")\n"
   ]
  },
  {
   "cell_type": "code",
   "execution_count": 95,
   "id": "bfd7818a-2ae0-435e-a327-8bdd01f0c585",
   "metadata": {
    "tags": []
   },
   "outputs": [],
   "source": [
    "library(tidyverse)\n",
    "library(caret)\n",
    "library(e1071)\n",
    "library(randomForest)\n",
    "library(pROC)"
   ]
  },
  {
   "cell_type": "code",
   "execution_count": 96,
   "id": "3fae1092-347b-4268-ab93-55a2197db6f3",
   "metadata": {
    "tags": []
   },
   "outputs": [],
   "source": [
    "data <- read.csv('diabetes.csv')"
   ]
  },
  {
   "cell_type": "code",
   "execution_count": 97,
   "id": "7b4a5c15-4396-4164-b7df-4408471734b8",
   "metadata": {
    "tags": []
   },
   "outputs": [
    {
     "data": {
      "text/html": [
       "<table class=\"dataframe\">\n",
       "<caption>A data.frame: 6 × 9</caption>\n",
       "<thead>\n",
       "\t<tr><th></th><th scope=col>Pregnancies</th><th scope=col>Glucose</th><th scope=col>BloodPressure</th><th scope=col>SkinThickness</th><th scope=col>Insulin</th><th scope=col>BMI</th><th scope=col>DiabetesPedigreeFunction</th><th scope=col>Age</th><th scope=col>Outcome</th></tr>\n",
       "\t<tr><th></th><th scope=col>&lt;int&gt;</th><th scope=col>&lt;int&gt;</th><th scope=col>&lt;int&gt;</th><th scope=col>&lt;int&gt;</th><th scope=col>&lt;int&gt;</th><th scope=col>&lt;dbl&gt;</th><th scope=col>&lt;dbl&gt;</th><th scope=col>&lt;int&gt;</th><th scope=col>&lt;int&gt;</th></tr>\n",
       "</thead>\n",
       "<tbody>\n",
       "\t<tr><th scope=row>1</th><td>6</td><td>148</td><td>72</td><td>35</td><td>  0</td><td>33.6</td><td>0.627</td><td>50</td><td>1</td></tr>\n",
       "\t<tr><th scope=row>2</th><td>1</td><td> 85</td><td>66</td><td>29</td><td>  0</td><td>26.6</td><td>0.351</td><td>31</td><td>0</td></tr>\n",
       "\t<tr><th scope=row>3</th><td>8</td><td>183</td><td>64</td><td> 0</td><td>  0</td><td>23.3</td><td>0.672</td><td>32</td><td>1</td></tr>\n",
       "\t<tr><th scope=row>4</th><td>1</td><td> 89</td><td>66</td><td>23</td><td> 94</td><td>28.1</td><td>0.167</td><td>21</td><td>0</td></tr>\n",
       "\t<tr><th scope=row>5</th><td>0</td><td>137</td><td>40</td><td>35</td><td>168</td><td>43.1</td><td>2.288</td><td>33</td><td>1</td></tr>\n",
       "\t<tr><th scope=row>6</th><td>5</td><td>116</td><td>74</td><td> 0</td><td>  0</td><td>25.6</td><td>0.201</td><td>30</td><td>0</td></tr>\n",
       "</tbody>\n",
       "</table>\n"
      ],
      "text/latex": [
       "A data.frame: 6 × 9\n",
       "\\begin{tabular}{r|lllllllll}\n",
       "  & Pregnancies & Glucose & BloodPressure & SkinThickness & Insulin & BMI & DiabetesPedigreeFunction & Age & Outcome\\\\\n",
       "  & <int> & <int> & <int> & <int> & <int> & <dbl> & <dbl> & <int> & <int>\\\\\n",
       "\\hline\n",
       "\t1 & 6 & 148 & 72 & 35 &   0 & 33.6 & 0.627 & 50 & 1\\\\\n",
       "\t2 & 1 &  85 & 66 & 29 &   0 & 26.6 & 0.351 & 31 & 0\\\\\n",
       "\t3 & 8 & 183 & 64 &  0 &   0 & 23.3 & 0.672 & 32 & 1\\\\\n",
       "\t4 & 1 &  89 & 66 & 23 &  94 & 28.1 & 0.167 & 21 & 0\\\\\n",
       "\t5 & 0 & 137 & 40 & 35 & 168 & 43.1 & 2.288 & 33 & 1\\\\\n",
       "\t6 & 5 & 116 & 74 &  0 &   0 & 25.6 & 0.201 & 30 & 0\\\\\n",
       "\\end{tabular}\n"
      ],
      "text/markdown": [
       "\n",
       "A data.frame: 6 × 9\n",
       "\n",
       "| <!--/--> | Pregnancies &lt;int&gt; | Glucose &lt;int&gt; | BloodPressure &lt;int&gt; | SkinThickness &lt;int&gt; | Insulin &lt;int&gt; | BMI &lt;dbl&gt; | DiabetesPedigreeFunction &lt;dbl&gt; | Age &lt;int&gt; | Outcome &lt;int&gt; |\n",
       "|---|---|---|---|---|---|---|---|---|---|\n",
       "| 1 | 6 | 148 | 72 | 35 |   0 | 33.6 | 0.627 | 50 | 1 |\n",
       "| 2 | 1 |  85 | 66 | 29 |   0 | 26.6 | 0.351 | 31 | 0 |\n",
       "| 3 | 8 | 183 | 64 |  0 |   0 | 23.3 | 0.672 | 32 | 1 |\n",
       "| 4 | 1 |  89 | 66 | 23 |  94 | 28.1 | 0.167 | 21 | 0 |\n",
       "| 5 | 0 | 137 | 40 | 35 | 168 | 43.1 | 2.288 | 33 | 1 |\n",
       "| 6 | 5 | 116 | 74 |  0 |   0 | 25.6 | 0.201 | 30 | 0 |\n",
       "\n"
      ],
      "text/plain": [
       "  Pregnancies Glucose BloodPressure SkinThickness Insulin BMI \n",
       "1 6           148     72            35              0     33.6\n",
       "2 1            85     66            29              0     26.6\n",
       "3 8           183     64             0              0     23.3\n",
       "4 1            89     66            23             94     28.1\n",
       "5 0           137     40            35            168     43.1\n",
       "6 5           116     74             0              0     25.6\n",
       "  DiabetesPedigreeFunction Age Outcome\n",
       "1 0.627                    50  1      \n",
       "2 0.351                    31  0      \n",
       "3 0.672                    32  1      \n",
       "4 0.167                    21  0      \n",
       "5 2.288                    33  1      \n",
       "6 0.201                    30  0      "
      ]
     },
     "metadata": {},
     "output_type": "display_data"
    }
   ],
   "source": [
    "head(data)\n"
   ]
  },
  {
   "cell_type": "code",
   "execution_count": 103,
   "id": "dc05595e-1453-4528-9514-2a8a34d90d1d",
   "metadata": {
    "tags": []
   },
   "outputs": [
    {
     "data": {
      "text/plain": [
       "  Pregnancies        Glucose      BloodPressure    SkinThickness  \n",
       " Min.   : 0.000   Min.   :  0.0   Min.   :  0.00   Min.   : 0.00  \n",
       " 1st Qu.: 1.000   1st Qu.: 99.0   1st Qu.: 62.00   1st Qu.: 0.00  \n",
       " Median : 3.000   Median :117.0   Median : 72.00   Median :23.00  \n",
       " Mean   : 3.845   Mean   :120.9   Mean   : 69.11   Mean   :20.54  \n",
       " 3rd Qu.: 6.000   3rd Qu.:140.2   3rd Qu.: 80.00   3rd Qu.:32.00  \n",
       " Max.   :17.000   Max.   :199.0   Max.   :122.00   Max.   :99.00  \n",
       "    Insulin           BMI        DiabetesPedigreeFunction      Age       \n",
       " Min.   :  0.0   Min.   : 0.00   Min.   :0.0780           Min.   :21.00  \n",
       " 1st Qu.:  0.0   1st Qu.:27.30   1st Qu.:0.2437           1st Qu.:24.00  \n",
       " Median : 30.5   Median :32.00   Median :0.3725           Median :29.00  \n",
       " Mean   : 79.8   Mean   :31.99   Mean   :0.4719           Mean   :33.24  \n",
       " 3rd Qu.:127.2   3rd Qu.:36.60   3rd Qu.:0.6262           3rd Qu.:41.00  \n",
       " Max.   :846.0   Max.   :67.10   Max.   :2.4200           Max.   :81.00  \n",
       "    Outcome     \n",
       " Min.   :0.000  \n",
       " 1st Qu.:0.000  \n",
       " Median :0.000  \n",
       " Mean   :0.349  \n",
       " 3rd Qu.:1.000  \n",
       " Max.   :1.000  "
      ]
     },
     "metadata": {},
     "output_type": "display_data"
    }
   ],
   "source": [
    "summary(data)"
   ]
  },
  {
   "cell_type": "markdown",
   "id": "6f7fe32f-cc5c-4b86-93a7-4784ba1e47f6",
   "metadata": {},
   "source": [
    "Glucose\n",
    "Normal: < 140\n",
    "Pre-Diabetes: 140-199\n",
    "Diabetes: > 200\n",
    "\n",
    "Insulin Ranges\n",
    "Low: < 25 μU/ml\n",
    "Normal: 25 - 230 μU/ml\n",
    "High: > 230 μU/ml\n",
    "\n",
    "Blood pressure\n",
    "Normal: < 80\n",
    "Elevated: 80-89\n",
    "High: > 90\n",
    "\n",
    "BMI\n",
    "Normal: 18.5-24.9\n",
    "Overweight: 25-29.9\n",
    "Obesity: >30\n",
    "\n",
    "Outcome:\n",
    "0 = no diabetes\n",
    "1 = diabetes"
   ]
  },
  {
   "cell_type": "markdown",
   "id": "291bd043-4d04-47f0-b686-b86aadb3c8b7",
   "metadata": {},
   "source": [
    "This is for me to understand some of the data im dealing with since im not in health field. Also printed out summary of data to get a picture of the data that im working with"
   ]
  },
  {
   "cell_type": "code",
   "execution_count": 107,
   "id": "421535b0-f2a1-4080-8d90-51075b30f6c5",
   "metadata": {
    "tags": []
   },
   "outputs": [
    {
     "data": {
      "text/html": [
       "0"
      ],
      "text/latex": [
       "0"
      ],
      "text/markdown": [
       "0"
      ],
      "text/plain": [
       "[1] 0"
      ]
     },
     "metadata": {},
     "output_type": "display_data"
    }
   ],
   "source": [
    "sum(is.na(data))"
   ]
  },
  {
   "cell_type": "markdown",
   "id": "ae2963b8-5984-4648-a40c-c00304071f1a",
   "metadata": {},
   "source": [
    "Since I have 0s in some of the columns, It means that they have not been recorded so I want to print out the columns with 0s and how many zeros are in there so i can see what i can do with my missing data. Prior to that I am going to count my rows to see how much rows I have in my diabetes file.  "
   ]
  },
  {
   "cell_type": "code",
   "execution_count": 109,
   "id": "218ccc6f-4c88-43b1-92aa-20c2c2d7f077",
   "metadata": {
    "tags": []
   },
   "outputs": [
    {
     "name": "stdout",
     "output_type": "stream",
     "text": [
      "Number of rows in the dataset: 768 \n"
     ]
    }
   ],
   "source": [
    "number_of_rows <- nrow(data)\n",
    "cat(\"Number of rows in the dataset:\", number_of_rows, \"\\n\")"
   ]
  },
  {
   "cell_type": "code",
   "execution_count": 110,
   "id": "738f794a-f132-49e3-ad9c-7ca5fd0740ee",
   "metadata": {
    "tags": []
   },
   "outputs": [],
   "source": [
    "num_zeros_glucose <- sum(data$Glucose == 0)\n",
    "num_zeros_bp <- sum(data$BloodPressure == 0)\n",
    "num_zeros_skinthickness <- sum(data$SkinThickness == 0)\n",
    "num_zeros_insulin <- sum(data$Insulin == 0)\n",
    "num_zeros_bmi <- sum(data$BMI == 0)"
   ]
  },
  {
   "cell_type": "code",
   "execution_count": 111,
   "id": "16aea9f6-6e53-4012-9447-5683deeb89a6",
   "metadata": {
    "tags": []
   },
   "outputs": [
    {
     "name": "stdout",
     "output_type": "stream",
     "text": [
      "Number of zeros in Glucose: 5 \n",
      "Number of zeros in BloodPressure: 35 \n",
      "Number of zeros in SkinThickness: 227 \n",
      "Number of zeros in Insulin: 374 \n",
      "Number of zeros in BMI: 11 \n"
     ]
    }
   ],
   "source": [
    "cat(\"Number of zeros in Glucose:\", num_zeros_glucose, \"\\n\")\n",
    "cat(\"Number of zeros in BloodPressure:\", num_zeros_bp, \"\\n\")\n",
    "cat(\"Number of zeros in SkinThickness:\", num_zeros_skinthickness, \"\\n\")\n",
    "cat(\"Number of zeros in Insulin:\", num_zeros_insulin, \"\\n\")\n",
    "cat(\"Number of zeros in BMI:\", num_zeros_bmi, \"\\n\")"
   ]
  },
  {
   "cell_type": "markdown",
   "id": "30b86c63-ade2-4c10-952a-907e5fdd77fb",
   "metadata": {},
   "source": [
    "High number of missing data from Skin_thickness and Insulin. However, I do not think median would be a good idea for insulin since it can lead to a big wide range of bias. Skin Thickness can somewhat correlate with BMI but I do not worry about skinthickness compared to insulin levels when it comes to diabetis since other factors can play bigger."
   ]
  },
  {
   "cell_type": "code",
   "execution_count": 113,
   "id": "614cb783-d4bd-4481-aa09-baf3d893bc55",
   "metadata": {
    "tags": []
   },
   "outputs": [
    {
     "name": "stdout",
     "output_type": "stream",
     "text": [
      "Number of non-diabetic (0): 500 \n",
      "Number of diabetic (1): 268 \n"
     ]
    }
   ],
   "source": [
    "outcome_counts <- table(data$Outcome)\n",
    "\n",
    "\n",
    "cat(\"Number of non-diabetic (0):\", outcome_counts[1], \"\\n\")\n",
    "cat(\"Number of diabetic (1):\", outcome_counts[2], \"\\n\")"
   ]
  },
  {
   "cell_type": "markdown",
   "id": "72b53573-c322-4b41-9f5e-4eb0298a321e",
   "metadata": {},
   "source": [
    "I am checking to get a count of non-diabetic, and diabetic count for my data. I also will be checking how many rows are effected with missing values for skinthickness and insulin in my non-diabetic and diabetic. "
   ]
  },
  {
   "cell_type": "code",
   "execution_count": 115,
   "id": "d6789dbd-5954-4ca2-b70a-0727563c2082",
   "metadata": {
    "tags": []
   },
   "outputs": [
    {
     "name": "stdout",
     "output_type": "stream",
     "text": [
      "Number of non-diabetic (0) with zero SkinThickness: 139 \n",
      "Number of diabetic (1) with zero SkinThickness: 88 \n",
      "Number of non-diabetic (0) with zero Insulin: 236 \n",
      "Number of diabetic (1) with zero Insulin: 138 \n"
     ]
    }
   ],
   "source": [
    "\n",
    "zero_skinthickness_outcome <- table(data$Outcome, data$SkinThickness == 0)\n",
    "\n",
    "zero_insulin_outcome <- table(data$Outcome, data$Insulin == 0)\n",
    "\n",
    "\n",
    "cat(\"Number of non-diabetic (0) with zero SkinThickness:\", zero_skinthickness_outcome[1,2], \"\\n\")\n",
    "cat(\"Number of diabetic (1) with zero SkinThickness:\", zero_skinthickness_outcome[2,2], \"\\n\")\n",
    "cat(\"Number of non-diabetic (0) with zero Insulin:\", zero_insulin_outcome[1,2], \"\\n\")\n",
    "cat(\"Number of diabetic (1) with zero Insulin:\", zero_insulin_outcome[2,2], \"\\n\")"
   ]
  },
  {
   "cell_type": "markdown",
   "id": "29ba4412-4527-4644-a055-a9561da26dfd",
   "metadata": {},
   "source": [
    "I wanted to see what the total count of outcome is for the missing values. "
   ]
  },
  {
   "cell_type": "markdown",
   "id": "b00971d7-47de-4414-aa3c-314180308d18",
   "metadata": {},
   "source": [
    "Since I do not want to delete the rows with the missing values or replace them with a mean or median average since it will make the data possibly bias. I will try to do KNN which will group common attributes and then the rows that have similiar attributes will plug in a possible insulin and skin thickness reading with KNN. "
   ]
  },
  {
   "cell_type": "code",
   "execution_count": 118,
   "id": "9636ea03-e17e-4b7d-9b21-59ae01ca216c",
   "metadata": {
    "tags": []
   },
   "outputs": [
    {
     "name": "stdout",
     "output_type": "stream",
     "text": [
      "\n",
      "The downloaded binary packages are in\n",
      "\t/var/folders/rd/jfxc79756t9g0g5f4ytyb6l40000gn/T//Rtmpq88GOO/downloaded_packages\n"
     ]
    }
   ],
   "source": [
    "install.packages(\"VIM\")"
   ]
  },
  {
   "cell_type": "code",
   "execution_count": 119,
   "id": "65f2a835-4e9f-499b-a91f-d9656c446e07",
   "metadata": {
    "tags": []
   },
   "outputs": [],
   "source": [
    "library(VIM)"
   ]
  },
  {
   "cell_type": "code",
   "execution_count": 120,
   "id": "ab94b099-7d03-4cc8-bf41-a49420bb225e",
   "metadata": {
    "tags": []
   },
   "outputs": [],
   "source": [
    "data[data$Glucose == 0, \"Glucose\"] <- NA\n",
    "data[data$BloodPressure == 0, \"BloodPressure\"] <- NA\n",
    "data[data$SkinThickness == 0, \"SkinThickness\"] <- NA\n",
    "data[data$Insulin == 0, \"Insulin\"] <- NA\n",
    "data[data$BMI == 0, \"BMI\"] <- NA"
   ]
  },
  {
   "cell_type": "code",
   "execution_count": 121,
   "id": "40553ca4-a0a1-49d9-b047-bd5640dcaf2e",
   "metadata": {
    "tags": []
   },
   "outputs": [
    {
     "data": {
      "text/html": [
       "652"
      ],
      "text/latex": [
       "652"
      ],
      "text/markdown": [
       "652"
      ],
      "text/plain": [
       "[1] 652"
      ]
     },
     "metadata": {},
     "output_type": "display_data"
    }
   ],
   "source": [
    "sum(is.na(data))"
   ]
  },
  {
   "cell_type": "code",
   "execution_count": 122,
   "id": "f43ac328-866c-41fe-89c6-b4b1799c90be",
   "metadata": {
    "tags": []
   },
   "outputs": [],
   "source": [
    "data_imputed <- kNN(data, variable=c(\"Glucose\", \"BloodPressure\", \"SkinThickness\", \"Insulin\", \"BMI\"), k=5)\n"
   ]
  },
  {
   "cell_type": "code",
   "execution_count": 123,
   "id": "29c0a21b-7cb0-457e-b1b8-48d15916175b",
   "metadata": {
    "tags": []
   },
   "outputs": [
    {
     "data": {
      "text/plain": [
       "   Min. 1st Qu.  Median    Mean 3rd Qu.    Max. \n",
       "   44.0    99.0   117.0   121.6   141.0   199.0 "
      ]
     },
     "metadata": {},
     "output_type": "display_data"
    },
    {
     "data": {
      "text/plain": [
       "   Min. 1st Qu.  Median    Mean 3rd Qu.    Max. \n",
       "   24.0    64.0    72.0    72.5    80.0   122.0 "
      ]
     },
     "metadata": {},
     "output_type": "display_data"
    },
    {
     "data": {
      "text/plain": [
       "   Min. 1st Qu.  Median    Mean 3rd Qu.    Max. \n",
       "    7.0    23.0    30.0    29.3    35.0    99.0 "
      ]
     },
     "metadata": {},
     "output_type": "display_data"
    },
    {
     "data": {
      "text/plain": [
       "   Min. 1st Qu.  Median    Mean 3rd Qu.    Max. \n",
       "   14.0    86.0   125.0   145.1   175.2   846.0 "
      ]
     },
     "metadata": {},
     "output_type": "display_data"
    },
    {
     "data": {
      "text/plain": [
       "   Min. 1st Qu.  Median    Mean 3rd Qu.    Max. \n",
       "  18.20   27.50   32.30   32.46   36.60   67.10 "
      ]
     },
     "metadata": {},
     "output_type": "display_data"
    }
   ],
   "source": [
    "summary(data_imputed$Glucose)\n",
    "summary(data_imputed$BloodPressure)\n",
    "summary(data_imputed$SkinThickness)\n",
    "summary(data_imputed$Insulin)\n",
    "summary(data_imputed$BMI)"
   ]
  },
  {
   "cell_type": "code",
   "execution_count": 124,
   "id": "30dc5f36-bb80-4828-a5f8-564c7f7377ae",
   "metadata": {
    "tags": []
   },
   "outputs": [
    {
     "name": "stdout",
     "output_type": "stream",
     "text": [
      "Number of rows with at least one NA value after imputation: 0 \n"
     ]
    }
   ],
   "source": [
    "num_rows_with_na_after <- sum(apply(data_imputed, 1, function(x) any(is.na(x))))\n",
    "cat(\"Number of rows with at least one NA value after imputation:\", num_rows_with_na_after, \"\\n\")\n",
    "\n"
   ]
  },
  {
   "cell_type": "code",
   "execution_count": 126,
   "id": "6ea08217-49a7-4a7a-ba9e-231260302dba",
   "metadata": {
    "tags": []
   },
   "outputs": [
    {
     "name": "stdout",
     "output_type": "stream",
     "text": [
      "Number of non-diabetic (0): 500 \n",
      "Number of diabetic (1): 268 \n"
     ]
    }
   ],
   "source": [
    "outcome_counts <- table(data_imputed$Outcome)\n",
    "\n",
    "\n",
    "cat(\"Number of non-diabetic (0):\", outcome_counts[1], \"\\n\")\n",
    "cat(\"Number of diabetic (1):\", outcome_counts[2], \"\\n\")\n"
   ]
  },
  {
   "cell_type": "code",
   "execution_count": 127,
   "id": "a585264c-34cc-4dec-95ec-c8f1541ee7b5",
   "metadata": {
    "tags": []
   },
   "outputs": [
    {
     "data": {
      "text/plain": [
       "  Pregnancies        Glucose      BloodPressure   SkinThickness \n",
       " Min.   : 0.000   Min.   : 44.0   Min.   : 24.0   Min.   : 7.0  \n",
       " 1st Qu.: 1.000   1st Qu.: 99.0   1st Qu.: 64.0   1st Qu.:23.0  \n",
       " Median : 3.000   Median :117.0   Median : 72.0   Median :30.0  \n",
       " Mean   : 3.845   Mean   :121.6   Mean   : 72.5   Mean   :29.3  \n",
       " 3rd Qu.: 6.000   3rd Qu.:141.0   3rd Qu.: 80.0   3rd Qu.:35.0  \n",
       " Max.   :17.000   Max.   :199.0   Max.   :122.0   Max.   :99.0  \n",
       "    Insulin           BMI        DiabetesPedigreeFunction      Age       \n",
       " Min.   : 14.0   Min.   :18.20   Min.   :0.0780           Min.   :21.00  \n",
       " 1st Qu.: 86.0   1st Qu.:27.50   1st Qu.:0.2437           1st Qu.:24.00  \n",
       " Median :125.0   Median :32.30   Median :0.3725           Median :29.00  \n",
       " Mean   :145.1   Mean   :32.46   Mean   :0.4719           Mean   :33.24  \n",
       " 3rd Qu.:175.2   3rd Qu.:36.60   3rd Qu.:0.6262           3rd Qu.:41.00  \n",
       " Max.   :846.0   Max.   :67.10   Max.   :2.4200           Max.   :81.00  \n",
       "    Outcome      Glucose_imp     BloodPressure_imp SkinThickness_imp\n",
       " Min.   :0.000   Mode :logical   Mode :logical     Mode :logical    \n",
       " 1st Qu.:0.000   FALSE:763       FALSE:733         FALSE:541        \n",
       " Median :0.000   TRUE :5         TRUE :35          TRUE :227        \n",
       " Mean   :0.349                                                      \n",
       " 3rd Qu.:1.000                                                      \n",
       " Max.   :1.000                                                      \n",
       " Insulin_imp      BMI_imp       \n",
       " Mode :logical   Mode :logical  \n",
       " FALSE:394       FALSE:757      \n",
       " TRUE :374       TRUE :11       \n",
       "                                \n",
       "                                \n",
       "                                "
      ]
     },
     "metadata": {},
     "output_type": "display_data"
    }
   ],
   "source": [
    "summary(data_imputed)"
   ]
  },
  {
   "cell_type": "code",
   "execution_count": 128,
   "id": "50460f38-2f5a-4dbf-b009-0413faf5bf20",
   "metadata": {
    "tags": []
   },
   "outputs": [
    {
     "data": {
      "text/html": [
       "<table class=\"dataframe\">\n",
       "<caption>A data.frame: 6 × 14</caption>\n",
       "<thead>\n",
       "\t<tr><th></th><th scope=col>Pregnancies</th><th scope=col>Glucose</th><th scope=col>BloodPressure</th><th scope=col>SkinThickness</th><th scope=col>Insulin</th><th scope=col>BMI</th><th scope=col>DiabetesPedigreeFunction</th><th scope=col>Age</th><th scope=col>Outcome</th><th scope=col>Glucose_imp</th><th scope=col>BloodPressure_imp</th><th scope=col>SkinThickness_imp</th><th scope=col>Insulin_imp</th><th scope=col>BMI_imp</th></tr>\n",
       "\t<tr><th></th><th scope=col>&lt;int&gt;</th><th scope=col>&lt;int&gt;</th><th scope=col>&lt;int&gt;</th><th scope=col>&lt;int&gt;</th><th scope=col>&lt;int&gt;</th><th scope=col>&lt;dbl&gt;</th><th scope=col>&lt;dbl&gt;</th><th scope=col>&lt;int&gt;</th><th scope=col>&lt;int&gt;</th><th scope=col>&lt;lgl&gt;</th><th scope=col>&lt;lgl&gt;</th><th scope=col>&lt;lgl&gt;</th><th scope=col>&lt;lgl&gt;</th><th scope=col>&lt;lgl&gt;</th></tr>\n",
       "</thead>\n",
       "<tbody>\n",
       "\t<tr><th scope=row>1</th><td>6</td><td>148</td><td>72</td><td>35</td><td>175</td><td>33.6</td><td>0.627</td><td>50</td><td>1</td><td>FALSE</td><td>FALSE</td><td>FALSE</td><td> TRUE</td><td>FALSE</td></tr>\n",
       "\t<tr><th scope=row>2</th><td>1</td><td> 85</td><td>66</td><td>29</td><td> 55</td><td>26.6</td><td>0.351</td><td>31</td><td>0</td><td>FALSE</td><td>FALSE</td><td>FALSE</td><td> TRUE</td><td>FALSE</td></tr>\n",
       "\t<tr><th scope=row>3</th><td>8</td><td>183</td><td>64</td><td>28</td><td>325</td><td>23.3</td><td>0.672</td><td>32</td><td>1</td><td>FALSE</td><td>FALSE</td><td> TRUE</td><td> TRUE</td><td>FALSE</td></tr>\n",
       "\t<tr><th scope=row>4</th><td>1</td><td> 89</td><td>66</td><td>23</td><td> 94</td><td>28.1</td><td>0.167</td><td>21</td><td>0</td><td>FALSE</td><td>FALSE</td><td>FALSE</td><td>FALSE</td><td>FALSE</td></tr>\n",
       "\t<tr><th scope=row>5</th><td>0</td><td>137</td><td>40</td><td>35</td><td>168</td><td>43.1</td><td>2.288</td><td>33</td><td>1</td><td>FALSE</td><td>FALSE</td><td>FALSE</td><td>FALSE</td><td>FALSE</td></tr>\n",
       "\t<tr><th scope=row>6</th><td>5</td><td>116</td><td>74</td><td>27</td><td>112</td><td>25.6</td><td>0.201</td><td>30</td><td>0</td><td>FALSE</td><td>FALSE</td><td> TRUE</td><td> TRUE</td><td>FALSE</td></tr>\n",
       "</tbody>\n",
       "</table>\n"
      ],
      "text/latex": [
       "A data.frame: 6 × 14\n",
       "\\begin{tabular}{r|llllllllllllll}\n",
       "  & Pregnancies & Glucose & BloodPressure & SkinThickness & Insulin & BMI & DiabetesPedigreeFunction & Age & Outcome & Glucose\\_imp & BloodPressure\\_imp & SkinThickness\\_imp & Insulin\\_imp & BMI\\_imp\\\\\n",
       "  & <int> & <int> & <int> & <int> & <int> & <dbl> & <dbl> & <int> & <int> & <lgl> & <lgl> & <lgl> & <lgl> & <lgl>\\\\\n",
       "\\hline\n",
       "\t1 & 6 & 148 & 72 & 35 & 175 & 33.6 & 0.627 & 50 & 1 & FALSE & FALSE & FALSE &  TRUE & FALSE\\\\\n",
       "\t2 & 1 &  85 & 66 & 29 &  55 & 26.6 & 0.351 & 31 & 0 & FALSE & FALSE & FALSE &  TRUE & FALSE\\\\\n",
       "\t3 & 8 & 183 & 64 & 28 & 325 & 23.3 & 0.672 & 32 & 1 & FALSE & FALSE &  TRUE &  TRUE & FALSE\\\\\n",
       "\t4 & 1 &  89 & 66 & 23 &  94 & 28.1 & 0.167 & 21 & 0 & FALSE & FALSE & FALSE & FALSE & FALSE\\\\\n",
       "\t5 & 0 & 137 & 40 & 35 & 168 & 43.1 & 2.288 & 33 & 1 & FALSE & FALSE & FALSE & FALSE & FALSE\\\\\n",
       "\t6 & 5 & 116 & 74 & 27 & 112 & 25.6 & 0.201 & 30 & 0 & FALSE & FALSE &  TRUE &  TRUE & FALSE\\\\\n",
       "\\end{tabular}\n"
      ],
      "text/markdown": [
       "\n",
       "A data.frame: 6 × 14\n",
       "\n",
       "| <!--/--> | Pregnancies &lt;int&gt; | Glucose &lt;int&gt; | BloodPressure &lt;int&gt; | SkinThickness &lt;int&gt; | Insulin &lt;int&gt; | BMI &lt;dbl&gt; | DiabetesPedigreeFunction &lt;dbl&gt; | Age &lt;int&gt; | Outcome &lt;int&gt; | Glucose_imp &lt;lgl&gt; | BloodPressure_imp &lt;lgl&gt; | SkinThickness_imp &lt;lgl&gt; | Insulin_imp &lt;lgl&gt; | BMI_imp &lt;lgl&gt; |\n",
       "|---|---|---|---|---|---|---|---|---|---|---|---|---|---|---|\n",
       "| 1 | 6 | 148 | 72 | 35 | 175 | 33.6 | 0.627 | 50 | 1 | FALSE | FALSE | FALSE |  TRUE | FALSE |\n",
       "| 2 | 1 |  85 | 66 | 29 |  55 | 26.6 | 0.351 | 31 | 0 | FALSE | FALSE | FALSE |  TRUE | FALSE |\n",
       "| 3 | 8 | 183 | 64 | 28 | 325 | 23.3 | 0.672 | 32 | 1 | FALSE | FALSE |  TRUE |  TRUE | FALSE |\n",
       "| 4 | 1 |  89 | 66 | 23 |  94 | 28.1 | 0.167 | 21 | 0 | FALSE | FALSE | FALSE | FALSE | FALSE |\n",
       "| 5 | 0 | 137 | 40 | 35 | 168 | 43.1 | 2.288 | 33 | 1 | FALSE | FALSE | FALSE | FALSE | FALSE |\n",
       "| 6 | 5 | 116 | 74 | 27 | 112 | 25.6 | 0.201 | 30 | 0 | FALSE | FALSE |  TRUE |  TRUE | FALSE |\n",
       "\n"
      ],
      "text/plain": [
       "  Pregnancies Glucose BloodPressure SkinThickness Insulin BMI \n",
       "1 6           148     72            35            175     33.6\n",
       "2 1            85     66            29             55     26.6\n",
       "3 8           183     64            28            325     23.3\n",
       "4 1            89     66            23             94     28.1\n",
       "5 0           137     40            35            168     43.1\n",
       "6 5           116     74            27            112     25.6\n",
       "  DiabetesPedigreeFunction Age Outcome Glucose_imp BloodPressure_imp\n",
       "1 0.627                    50  1       FALSE       FALSE            \n",
       "2 0.351                    31  0       FALSE       FALSE            \n",
       "3 0.672                    32  1       FALSE       FALSE            \n",
       "4 0.167                    21  0       FALSE       FALSE            \n",
       "5 2.288                    33  1       FALSE       FALSE            \n",
       "6 0.201                    30  0       FALSE       FALSE            \n",
       "  SkinThickness_imp Insulin_imp BMI_imp\n",
       "1 FALSE              TRUE       FALSE  \n",
       "2 FALSE              TRUE       FALSE  \n",
       "3  TRUE              TRUE       FALSE  \n",
       "4 FALSE             FALSE       FALSE  \n",
       "5 FALSE             FALSE       FALSE  \n",
       "6  TRUE              TRUE       FALSE  "
      ]
     },
     "metadata": {},
     "output_type": "display_data"
    }
   ],
   "source": [
    "head(data_imputed)"
   ]
  },
  {
   "cell_type": "code",
   "execution_count": null,
   "id": "275882b8-eced-40c4-9610-419fd9f4f47b",
   "metadata": {},
   "outputs": [],
   "source": []
  }
 ],
 "metadata": {
  "kernelspec": {
   "display_name": "R",
   "language": "R",
   "name": "ir"
  },
  "language_info": {
   "codemirror_mode": "r",
   "file_extension": ".r",
   "mimetype": "text/x-r-source",
   "name": "R",
   "pygments_lexer": "r",
   "version": "4.4.0"
  }
 },
 "nbformat": 4,
 "nbformat_minor": 5
}

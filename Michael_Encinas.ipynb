{
 "cells": [
  {
   "cell_type": "markdown",
   "id": "e4afc3f9-1c6b-4f86-a4e1-2054e4b42c80",
   "metadata": {},
   "source": [
    "Context\n",
    "This dataset is originally from the National Institute of Diabetes and\n",
    "Digestive and Kidney Diseases. The objective is to predict based on\n",
    "diagnostic measurements whether a patient has diabetes.\n",
    "Content\n",
    "Several constraints were placed on the selection of these instances from a\n",
    "larger database. In particular, all patients here are females at least 21 years\n",
    "old of Pima Indian heritage.\n",
    "• Pregnancies: Number of times pregnant\n",
    "• Glucose: Plasma glucose concentration 2 hours in an oral glucose\n",
    "tolerance test\n",
    "• BloodPressure: Diastolic blood pressure (mm Hg)\n",
    "• SkinThickness: Triceps skin fold thickness (mm)\n",
    "• Insulin: 2-Hour serum insulin (mu U/ml)\n",
    "• BMI: Body mass index (weight in kg/(height in m)^2)\n",
    "• DiabetesPedigreeFunction: Diabetes pedigree function\n",
    "• Age: Age (years)\n",
    "• Outcome: Class variable (0 or 1)"
   ]
  },
  {
   "cell_type": "markdown",
   "id": "55975363-d517-4b24-9db7-fd1bb4467826",
   "metadata": {},
   "source": [
    "1. Prepare the provided Diabetes dataset, implement ONE of the classification techniques and evaluate the performance using the proper metrics for the binary classification of the variable “Outcome”"
   ]
  },
  {
   "cell_type": "code",
   "execution_count": 9,
   "id": "66fa1b1f-76fe-4064-88b1-5bddf92eddbc",
   "metadata": {
    "tags": []
   },
   "outputs": [
    {
     "name": "stdout",
     "output_type": "stream",
     "text": [
      "\n",
      "The downloaded binary packages are in\n",
      "\t/var/folders/rd/jfxc79756t9g0g5f4ytyb6l40000gn/T//Rtmpq88GOO/downloaded_packages\n"
     ]
    }
   ],
   "source": [
    "install.packages(\"randomForest\")\n"
   ]
  },
  {
   "cell_type": "code",
   "execution_count": 10,
   "id": "bfd7818a-2ae0-435e-a327-8bdd01f0c585",
   "metadata": {
    "tags": []
   },
   "outputs": [],
   "source": [
    "library(tidyverse)\n",
    "library(caret)\n",
    "library(e1071)\n",
    "library(randomForest)\n",
    "library(pROC)"
   ]
  },
  {
   "cell_type": "code",
   "execution_count": 14,
   "id": "3fae1092-347b-4268-ab93-55a2197db6f3",
   "metadata": {
    "tags": []
   },
   "outputs": [],
   "source": [
    "data <- read.csv('diabetes.csv')"
   ]
  },
  {
   "cell_type": "code",
   "execution_count": 15,
   "id": "7b4a5c15-4396-4164-b7df-4408471734b8",
   "metadata": {
    "tags": []
   },
   "outputs": [
    {
     "data": {
      "text/html": [
       "<table class=\"dataframe\">\n",
       "<caption>A data.frame: 6 × 9</caption>\n",
       "<thead>\n",
       "\t<tr><th></th><th scope=col>Pregnancies</th><th scope=col>Glucose</th><th scope=col>BloodPressure</th><th scope=col>SkinThickness</th><th scope=col>Insulin</th><th scope=col>BMI</th><th scope=col>DiabetesPedigreeFunction</th><th scope=col>Age</th><th scope=col>Outcome</th></tr>\n",
       "\t<tr><th></th><th scope=col>&lt;int&gt;</th><th scope=col>&lt;int&gt;</th><th scope=col>&lt;int&gt;</th><th scope=col>&lt;int&gt;</th><th scope=col>&lt;int&gt;</th><th scope=col>&lt;dbl&gt;</th><th scope=col>&lt;dbl&gt;</th><th scope=col>&lt;int&gt;</th><th scope=col>&lt;int&gt;</th></tr>\n",
       "</thead>\n",
       "<tbody>\n",
       "\t<tr><th scope=row>1</th><td>6</td><td>148</td><td>72</td><td>35</td><td>  0</td><td>33.6</td><td>0.627</td><td>50</td><td>1</td></tr>\n",
       "\t<tr><th scope=row>2</th><td>1</td><td> 85</td><td>66</td><td>29</td><td>  0</td><td>26.6</td><td>0.351</td><td>31</td><td>0</td></tr>\n",
       "\t<tr><th scope=row>3</th><td>8</td><td>183</td><td>64</td><td> 0</td><td>  0</td><td>23.3</td><td>0.672</td><td>32</td><td>1</td></tr>\n",
       "\t<tr><th scope=row>4</th><td>1</td><td> 89</td><td>66</td><td>23</td><td> 94</td><td>28.1</td><td>0.167</td><td>21</td><td>0</td></tr>\n",
       "\t<tr><th scope=row>5</th><td>0</td><td>137</td><td>40</td><td>35</td><td>168</td><td>43.1</td><td>2.288</td><td>33</td><td>1</td></tr>\n",
       "\t<tr><th scope=row>6</th><td>5</td><td>116</td><td>74</td><td> 0</td><td>  0</td><td>25.6</td><td>0.201</td><td>30</td><td>0</td></tr>\n",
       "</tbody>\n",
       "</table>\n"
      ],
      "text/latex": [
       "A data.frame: 6 × 9\n",
       "\\begin{tabular}{r|lllllllll}\n",
       "  & Pregnancies & Glucose & BloodPressure & SkinThickness & Insulin & BMI & DiabetesPedigreeFunction & Age & Outcome\\\\\n",
       "  & <int> & <int> & <int> & <int> & <int> & <dbl> & <dbl> & <int> & <int>\\\\\n",
       "\\hline\n",
       "\t1 & 6 & 148 & 72 & 35 &   0 & 33.6 & 0.627 & 50 & 1\\\\\n",
       "\t2 & 1 &  85 & 66 & 29 &   0 & 26.6 & 0.351 & 31 & 0\\\\\n",
       "\t3 & 8 & 183 & 64 &  0 &   0 & 23.3 & 0.672 & 32 & 1\\\\\n",
       "\t4 & 1 &  89 & 66 & 23 &  94 & 28.1 & 0.167 & 21 & 0\\\\\n",
       "\t5 & 0 & 137 & 40 & 35 & 168 & 43.1 & 2.288 & 33 & 1\\\\\n",
       "\t6 & 5 & 116 & 74 &  0 &   0 & 25.6 & 0.201 & 30 & 0\\\\\n",
       "\\end{tabular}\n"
      ],
      "text/markdown": [
       "\n",
       "A data.frame: 6 × 9\n",
       "\n",
       "| <!--/--> | Pregnancies &lt;int&gt; | Glucose &lt;int&gt; | BloodPressure &lt;int&gt; | SkinThickness &lt;int&gt; | Insulin &lt;int&gt; | BMI &lt;dbl&gt; | DiabetesPedigreeFunction &lt;dbl&gt; | Age &lt;int&gt; | Outcome &lt;int&gt; |\n",
       "|---|---|---|---|---|---|---|---|---|---|\n",
       "| 1 | 6 | 148 | 72 | 35 |   0 | 33.6 | 0.627 | 50 | 1 |\n",
       "| 2 | 1 |  85 | 66 | 29 |   0 | 26.6 | 0.351 | 31 | 0 |\n",
       "| 3 | 8 | 183 | 64 |  0 |   0 | 23.3 | 0.672 | 32 | 1 |\n",
       "| 4 | 1 |  89 | 66 | 23 |  94 | 28.1 | 0.167 | 21 | 0 |\n",
       "| 5 | 0 | 137 | 40 | 35 | 168 | 43.1 | 2.288 | 33 | 1 |\n",
       "| 6 | 5 | 116 | 74 |  0 |   0 | 25.6 | 0.201 | 30 | 0 |\n",
       "\n"
      ],
      "text/plain": [
       "  Pregnancies Glucose BloodPressure SkinThickness Insulin BMI \n",
       "1 6           148     72            35              0     33.6\n",
       "2 1            85     66            29              0     26.6\n",
       "3 8           183     64             0              0     23.3\n",
       "4 1            89     66            23             94     28.1\n",
       "5 0           137     40            35            168     43.1\n",
       "6 5           116     74             0              0     25.6\n",
       "  DiabetesPedigreeFunction Age Outcome\n",
       "1 0.627                    50  1      \n",
       "2 0.351                    31  0      \n",
       "3 0.672                    32  1      \n",
       "4 0.167                    21  0      \n",
       "5 2.288                    33  1      \n",
       "6 0.201                    30  0      "
      ]
     },
     "metadata": {},
     "output_type": "display_data"
    }
   ],
   "source": [
    "head(data)\n"
   ]
  },
  {
   "cell_type": "code",
   "execution_count": 18,
   "id": "dc05595e-1453-4528-9514-2a8a34d90d1d",
   "metadata": {
    "tags": []
   },
   "outputs": [
    {
     "data": {
      "text/plain": [
       "  Pregnancies        Glucose      BloodPressure    SkinThickness  \n",
       " Min.   : 0.000   Min.   :  0.0   Min.   :  0.00   Min.   : 0.00  \n",
       " 1st Qu.: 1.000   1st Qu.: 99.0   1st Qu.: 62.00   1st Qu.: 0.00  \n",
       " Median : 3.000   Median :117.0   Median : 72.00   Median :23.00  \n",
       " Mean   : 3.845   Mean   :120.9   Mean   : 69.11   Mean   :20.54  \n",
       " 3rd Qu.: 6.000   3rd Qu.:140.2   3rd Qu.: 80.00   3rd Qu.:32.00  \n",
       " Max.   :17.000   Max.   :199.0   Max.   :122.00   Max.   :99.00  \n",
       "    Insulin           BMI        DiabetesPedigreeFunction      Age       \n",
       " Min.   :  0.0   Min.   : 0.00   Min.   :0.0780           Min.   :21.00  \n",
       " 1st Qu.:  0.0   1st Qu.:27.30   1st Qu.:0.2437           1st Qu.:24.00  \n",
       " Median : 30.5   Median :32.00   Median :0.3725           Median :29.00  \n",
       " Mean   : 79.8   Mean   :31.99   Mean   :0.4719           Mean   :33.24  \n",
       " 3rd Qu.:127.2   3rd Qu.:36.60   3rd Qu.:0.6262           3rd Qu.:41.00  \n",
       " Max.   :846.0   Max.   :67.10   Max.   :2.4200           Max.   :81.00  \n",
       "    Outcome     \n",
       " Min.   :0.000  \n",
       " 1st Qu.:0.000  \n",
       " Median :0.000  \n",
       " Mean   :0.349  \n",
       " 3rd Qu.:1.000  \n",
       " Max.   :1.000  "
      ]
     },
     "metadata": {},
     "output_type": "display_data"
    }
   ],
   "source": [
    "summary(data)"
   ]
  },
  {
   "cell_type": "markdown",
   "id": "6f7fe32f-cc5c-4b86-93a7-4784ba1e47f6",
   "metadata": {},
   "source": [
    "Glucose\n",
    "Normal: < 140\n",
    "Pre-Diabetes: 140-199\n",
    "Diabetes: > 200\n",
    "\n",
    "Insulin Ranges\n",
    "Low: < 25 μU/ml\n",
    "Normal: 25 - 230 μU/ml\n",
    "High: > 230 μU/ml\n",
    "\n",
    "Blood pressure\n",
    "Normal: < 80\n",
    "Elevated: 80-89\n",
    "High: > 90\n",
    "\n",
    "BMI\n",
    "Normal: 18.5-24.9\n",
    "Overweight: 25-29.9\n",
    "Obesity: >30\n",
    "\n",
    "Outcome:\n",
    "0 = no diabetes\n",
    "1 = diabetes"
   ]
  },
  {
   "cell_type": "markdown",
   "id": "291bd043-4d04-47f0-b686-b86aadb3c8b7",
   "metadata": {},
   "source": [
    "This is for me to understand some of the data im dealing with since im not in health field. Also printed out summary of data to get a picture of the data that im working with"
   ]
  },
  {
   "cell_type": "code",
   "execution_count": 22,
   "id": "421535b0-f2a1-4080-8d90-51075b30f6c5",
   "metadata": {
    "tags": []
   },
   "outputs": [
    {
     "data": {
      "text/html": [
       "0"
      ],
      "text/latex": [
       "0"
      ],
      "text/markdown": [
       "0"
      ],
      "text/plain": [
       "[1] 0"
      ]
     },
     "metadata": {},
     "output_type": "display_data"
    }
   ],
   "source": [
    "sum(is.na(data))"
   ]
  },
  {
   "cell_type": "markdown",
   "id": "ae2963b8-5984-4648-a40c-c00304071f1a",
   "metadata": {},
   "source": [
    "Since I have 0s in some of the columns, It means that they have not been recorded so I want to print out the columns with 0s and how many zeros are in there so i can see what i can do with my missing data. Prior to that I am going to count my rows to see how much rows I have in my diabetes file.  "
   ]
  },
  {
   "cell_type": "code",
   "execution_count": 25,
   "id": "218ccc6f-4c88-43b1-92aa-20c2c2d7f077",
   "metadata": {
    "tags": []
   },
   "outputs": [
    {
     "name": "stdout",
     "output_type": "stream",
     "text": [
      "Number of rows in the dataset: 768 \n"
     ]
    }
   ],
   "source": [
    "number_of_rows <- nrow(data)\n",
    "cat(\"Number of rows in the dataset:\", number_of_rows, \"\\n\")"
   ]
  },
  {
   "cell_type": "code",
   "execution_count": 27,
   "id": "738f794a-f132-49e3-ad9c-7ca5fd0740ee",
   "metadata": {
    "tags": []
   },
   "outputs": [],
   "source": [
    "num_zeros_glucose <- sum(data$Glucose == 0)\n",
    "num_zeros_bp <- sum(data$BloodPressure == 0)\n",
    "num_zeros_skinthickness <- sum(data$SkinThickness == 0)\n",
    "num_zeros_insulin <- sum(data$Insulin == 0)\n",
    "num_zeros_bmi <- sum(data$BMI == 0)"
   ]
  },
  {
   "cell_type": "code",
   "execution_count": 29,
   "id": "16aea9f6-6e53-4012-9447-5683deeb89a6",
   "metadata": {
    "tags": []
   },
   "outputs": [
    {
     "name": "stdout",
     "output_type": "stream",
     "text": [
      "Number of zeros in Glucose: 5 \n",
      "Number of zeros in BloodPressure: 35 \n",
      "Number of zeros in SkinThickness: 227 \n",
      "Number of zeros in Insulin: 374 \n",
      "Number of zeros in BMI: 11 \n"
     ]
    }
   ],
   "source": [
    "cat(\"Number of zeros in Glucose:\", num_zeros_glucose, \"\\n\")\n",
    "cat(\"Number of zeros in BloodPressure:\", num_zeros_bp, \"\\n\")\n",
    "cat(\"Number of zeros in SkinThickness:\", num_zeros_skinthickness, \"\\n\")\n",
    "cat(\"Number of zeros in Insulin:\", num_zeros_insulin, \"\\n\")\n",
    "cat(\"Number of zeros in BMI:\", num_zeros_bmi, \"\\n\")"
   ]
  },
  {
   "cell_type": "markdown",
   "id": "30b86c63-ade2-4c10-952a-907e5fdd77fb",
   "metadata": {},
   "source": [
    "High number of missing data from Skin_thickness and Insulin. However, I do not think median would be a good idea for insulin since it can lead to a big wide range of bias. Skin Thickness can somewhat correlate with BMI but I do not worry about skinthickness compared to insulin levels when it comes to diabetis since other factors can play bigger."
   ]
  },
  {
   "cell_type": "code",
   "execution_count": 34,
   "id": "614cb783-d4bd-4481-aa09-baf3d893bc55",
   "metadata": {
    "tags": []
   },
   "outputs": [
    {
     "name": "stdout",
     "output_type": "stream",
     "text": [
      "Number of non-diabetic (0): 500 \n",
      "Number of diabetic (1): 268 \n"
     ]
    }
   ],
   "source": [
    "outcome_counts <- table(data$Outcome)\n",
    "\n",
    "\n",
    "cat(\"Number of non-diabetic (0):\", outcome_counts[1], \"\\n\")\n",
    "cat(\"Number of diabetic (1):\", outcome_counts[2], \"\\n\")"
   ]
  },
  {
   "cell_type": "markdown",
   "id": "72b53573-c322-4b41-9f5e-4eb0298a321e",
   "metadata": {},
   "source": [
    "I am checking to get a count of non-diabetic, and diabetic count for my data. I also will be checking how many rows are effected with missing values for skinthickness and insulin in my non-diabetic and diabetic. "
   ]
  },
  {
   "cell_type": "code",
   "execution_count": 36,
   "id": "d6789dbd-5954-4ca2-b70a-0727563c2082",
   "metadata": {
    "tags": []
   },
   "outputs": [
    {
     "name": "stdout",
     "output_type": "stream",
     "text": [
      "Number of non-diabetic (0) with zero SkinThickness: 139 \n",
      "Number of diabetic (1) with zero SkinThickness: 88 \n",
      "Number of non-diabetic (0) with zero Insulin: 236 \n",
      "Number of diabetic (1) with zero Insulin: 138 \n"
     ]
    }
   ],
   "source": [
    "\n",
    "zero_skinthickness_outcome <- table(data$Outcome, data$SkinThickness == 0)\n",
    "\n",
    "zero_insulin_outcome <- table(data$Outcome, data$Insulin == 0)\n",
    "\n",
    "\n",
    "cat(\"Number of non-diabetic (0) with zero SkinThickness:\", zero_skinthickness_outcome[1,2], \"\\n\")\n",
    "cat(\"Number of diabetic (1) with zero SkinThickness:\", zero_skinthickness_outcome[2,2], \"\\n\")\n",
    "cat(\"Number of non-diabetic (0) with zero Insulin:\", zero_insulin_outcome[1,2], \"\\n\")\n",
    "cat(\"Number of diabetic (1) with zero Insulin:\", zero_insulin_outcome[2,2], \"\\n\")"
   ]
  },
  {
   "cell_type": "markdown",
   "id": "29ba4412-4527-4644-a055-a9561da26dfd",
   "metadata": {},
   "source": [
    "I wanted to see what the total count of outcome is for the missing values. "
   ]
  },
  {
   "cell_type": "code",
   "execution_count": null,
   "id": "f5460d9c-c5e9-4df5-906c-ffd710b0a78e",
   "metadata": {},
   "outputs": [],
   "source": []
  }
 ],
 "metadata": {
  "kernelspec": {
   "display_name": "R",
   "language": "R",
   "name": "ir"
  },
  "language_info": {
   "codemirror_mode": "r",
   "file_extension": ".r",
   "mimetype": "text/x-r-source",
   "name": "R",
   "pygments_lexer": "r",
   "version": "4.4.0"
  }
 },
 "nbformat": 4,
 "nbformat_minor": 5
}
